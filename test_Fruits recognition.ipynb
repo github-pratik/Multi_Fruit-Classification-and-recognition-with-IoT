import numpy as np
import tensorflow as tf

# Load testing data
test_data = ...  # Load your testing data here

# Preprocess testing data if necessary
preprocessed_test_data = ...  # Preprocess your testing data here

# Load TensorFlow Lite model
interpreter = tf.lite.Interpreter(model_path="your_model.tflite")
interpreter.allocate_tensors()

# Get input and output details
input_details = interpreter.get_input_details()
output_details = interpreter.get_output_details()

# Run inference on testing data
interpreter.set_tensor(input_details[0]['index'], preprocessed_test_data)
interpreter.invoke()
predictions = interpreter.get_tensor(output_details[0]['index'])

# Compare predictions with ground truth labels
ground_truth_labels = ...  # Load your ground truth labels here
predicted_labels = np.argmax(predictions, axis=1)
correct_predictions = np.sum(predicted_labels == ground_truth_labels)
total_samples = len(ground_truth_labels)

# Calculate accuracy
accuracy = correct_predictions / total_samples
print("Accuracy:", accuracy)